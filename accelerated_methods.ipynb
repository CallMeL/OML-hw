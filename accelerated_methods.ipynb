{
  "cells": [
    {
      "cell_type": "markdown",
      "metadata": {
        "id": "view-in-github",
        "colab_type": "text"
      },
      "source": [
        "<a href=\"https://colab.research.google.com/github/CallMeL/OML-hw/blob/master/accelerated_methods.ipynb\" target=\"_parent\"><img src=\"https://colab.research.google.com/assets/colab-badge.svg\" alt=\"Open In Colab\"/></a>"
      ]
    },
    {
      "cell_type": "markdown",
      "id": "bc565ac7-a7cb-43aa-8e7b-7cd17901667f",
      "metadata": {
        "id": "bc565ac7-a7cb-43aa-8e7b-7cd17901667f"
      },
      "source": [
        "# Exercise sheet 4\n",
        "\n",
        "**Please turin in your exercises by Monday, December 2nd.**"
      ]
    },
    {
      "cell_type": "markdown",
      "id": "9e871567-aaa4-4bc9-809f-92536d8a061c",
      "metadata": {
        "id": "9e871567-aaa4-4bc9-809f-92536d8a061c"
      },
      "source": [
        "## Task 1: L-smoothness\n",
        "\n",
        "In the lecture we saw the importance of $L$-smoothness of a function and its relation to the step size. Determining the $L$ constant can be really hard and time consuming. Prove the following upper bound on the largest signular value of the matrix.\n",
        "\n",
        "**Lemma**\n",
        "For all matrices $A \\in \\mathbb{R}^{n\\times m}$\n",
        "$$\n",
        "\\|A\\|_2 \\leq \\|A\\|_F\n",
        "$$\n",
        "where $\\|A\\|_2$ is the spectral norm and $\\|A\\|_F$ is the Frobenius norm of matrix $A$.\n",
        "\n",
        "**Proof**\n",
        "$$\n",
        "...\n",
        "$$\n",
        "\n",
        "Using the lemma above, approximate the constant $L$ of the function\n",
        "$$\n",
        "f(x) = \\|Ax - b\\|_2^2\n",
        "$$\n",
        "for the given matrices $A$ and vectors $b$ below. What is the true $L$ constant of those matrices?\n",
        "\n",
        "How much operations, in big-O notation, is needed to compute $\\|A\\|_2$ and how much to compute $\\|A\\|_F$?"
      ]
    },
    {
      "cell_type": "markdown",
      "source": [
        "**PROOF**\n",
        "\n",
        "Using the properties of the trace:\n",
        "\n",
        "The trace of a matrix equals the sum of its eigenvalues, i.e.,\n",
        "$\n",
        "\\text{tr}(A^\\top A) = \\sum_{i=1}^r \\sigma_i^2,\n",
        "$\n",
        "where \\( \\sigma_i \\) are the singular values of \\( A \\), and \\( r \\) is the rank of \\( A \\).\n",
        "\n",
        "The spectral norm is given by the largest singular value:\n",
        "$\n",
        "\\|A\\|_2 = \\sigma_{\\max}.\n",
        "$\n",
        "\n",
        "Since the Frobenius norm involves the sum of squares of singular values:\n",
        "$\n",
        "\\|A\\|_F^2 = \\sum_{i=1}^r \\sigma_i^2 \\geq \\sigma_{\\max}^2.\n",
        "$\n",
        "\n",
        "Taking the square root on both sides:\n",
        "$\n",
        "\\|A\\|_F \\geq \\|A\\|_2.\n",
        "$\n",
        "\n",
        "\n",
        "How many operations, in big-O notation, are needed to compute $|A|_2$ and how many to compute $|A|_F$:\n",
        "* $|A|_2$ : $ O(kn^2)$\n",
        "*  $|A|_F$ : $ O(n^2)$"
      ],
      "metadata": {
        "id": "pITHFGoKmJg7"
      },
      "id": "pITHFGoKmJg7"
    },
    {
      "cell_type": "code",
      "execution_count": 4,
      "id": "26721e67-5c66-499d-a4f1-87ca0f92d5a8",
      "metadata": {
        "id": "26721e67-5c66-499d-a4f1-87ca0f92d5a8",
        "outputId": "d9dece5e-eef3-48ed-c17f-f6299f5b78b0",
        "colab": {
          "base_uri": "https://localhost:8080/"
        }
      },
      "outputs": [
        {
          "output_type": "stream",
          "name": "stdout",
          "text": [
            "Spectral Norm (||A||_2): 11.09589863796424\n",
            "Frobenius Norm (||A||_F): 15.524174696260024\n",
            "True L: 246.23793316795334\n",
            "Approximated L: 482.00000000000006\n"
          ]
        }
      ],
      "source": [
        "import numpy as np\n",
        "rng = np.random.default_rng(seed=0)\n",
        "\n",
        "def f(x):\n",
        "    return np.linalg.norm(A@x - b)**2\n",
        "\n",
        "def Lsmoothness(A):\n",
        "  spectral_norm = np.linalg.norm(A, 2)  # Largest singular value\n",
        "  frobenius_norm = np.linalg.norm(A, 'fro')\n",
        "\n",
        "  true_L = 2 * spectral_norm**2\n",
        "  approx_L = 2 * frobenius_norm**2\n",
        "\n",
        "  print(\"Spectral Norm (||A||_2):\", spectral_norm)\n",
        "  print(\"Frobenius Norm (||A||_F):\", frobenius_norm)\n",
        "  print(\"True L:\", true_L)\n",
        "  print(\"Approximated L:\", approx_L)\n",
        "\n",
        "A = np.array([\n",
        "    [ 1,  2,  0],\n",
        "    [ 2,  2, -1],\n",
        "    [ 2,  1,  1],\n",
        "    [10,  0, -1],\n",
        "    [ 0,  0, 10],\n",
        "    [-1, -2, -1],\n",
        "    [-3, -2, -1]\n",
        "])\n",
        "b = np.array([[1, 1, 1, 0, 0, 0, 0]])\n",
        "Lsmoothness(A)"
      ]
    },
    {
      "cell_type": "code",
      "source": [
        "A = rng.normal(1., 2., size=(10000, 4000))\n",
        "b = np.ones(10000)\n",
        "\n",
        "Lsmoothness(A)"
      ],
      "metadata": {
        "id": "Ar3YyPyYkDSi",
        "outputId": "3eddbf30-199a-4dbb-e43f-a4327bfa912f",
        "colab": {
          "base_uri": "https://localhost:8080/"
        }
      },
      "id": "Ar3YyPyYkDSi",
      "execution_count": 5,
      "outputs": [
        {
          "output_type": "stream",
          "name": "stdout",
          "text": [
            "Spectral Norm (||A||_2): 6328.983629275508\n",
            "Frobenius Norm (||A||_F): 14141.848086911688\n",
            "True L: 80112067.55927476\n",
            "Approximated L: 399983734.6265756\n"
          ]
        }
      ]
    },
    {
      "cell_type": "markdown",
      "id": "55443425-346d-44f0-a68d-0c11611c5dc3",
      "metadata": {
        "id": "55443425-346d-44f0-a68d-0c11611c5dc3"
      },
      "source": [
        "## Task 2: Running time\n",
        "\n",
        "Gradient descent has a convergence rate of $O((1 - \\frac{\\mu}{L})^T)$ for strongly convex functions. Compare this to the convergence rate of the optimal method of $O((1 - \\sqrt{\\frac{\\mu}{L}})^T)$. How many more iterations does gradient descent need as compared to the optimal method to achieve an approximate error of $\\varepsilon$ for a function with condition number $Q_f := \\frac{L}{\\mu}$?\n",
        "\n",
        "Plot the convergence rate over time for $Q_f = 10^4$ (assume big-O constanst are 1)."
      ]
    },
    {
      "cell_type": "code",
      "source": [
        "import numpy as np\n",
        "import matplotlib.pyplot as plt\n",
        "\n",
        "def compute_rates(max_iter=100, Qf=10**4):\n",
        "    grad_rates = []\n",
        "    opt_rates = []\n",
        "    diff_iterations = []\n",
        "\n",
        "    for T in range(1, max_iter + 1):\n",
        "        # Gradient descent convergence rate\n",
        "        grad_rate = (1 - 1 / Qf) ** T\n",
        "\n",
        "        # Optimal method convergence rate\n",
        "        opt_rate = (1 - 1 / np.sqrt(Qf)) ** T\n",
        "\n",
        "        # Compute number of extra iterations required\n",
        "        extra_iters = T * (np.log(grad_rate) - np.log(opt_rate)) / np.log(grad_rate)\n",
        "\n",
        "        grad_rates.append(grad_rate)\n",
        "        opt_rates.append(opt_rate)\n",
        "        diff_iterations.append(extra_iters)\n",
        "\n",
        "    return grad_rates, opt_rates, diff_iterations"
      ],
      "metadata": {
        "id": "Y7I8Y5cVlUYv"
      },
      "id": "Y7I8Y5cVlUYv",
      "execution_count": 7,
      "outputs": []
    },
    {
      "cell_type": "code",
      "execution_count": 8,
      "id": "f9378fb8-36ed-460b-be89-84789c94ba7a",
      "metadata": {
        "id": "f9378fb8-36ed-460b-be89-84789c94ba7a",
        "outputId": "8d42caff-3e2f-477e-e191-1c5299452c14",
        "colab": {
          "base_uri": "https://localhost:8080/",
          "height": 1000
        }
      },
      "outputs": [
        {
          "output_type": "display_data",
          "data": {
            "text/plain": [
              "<Figure size 1000x600 with 1 Axes>"
            ],
            "image/png": "[encoded data removed]"
          },
          "metadata": {}
        },
        {
          "output_type": "display_data",
          "data": {
            "text/plain": [
              "<Figure size 1000x600 with 1 Axes>"
            ],
            "image/png": "[encoded data removed]"
          },
          "metadata": {}
        }
      ],
      "source": [
        "max_iter = 100\n",
        "Qf = 10**4\n",
        "grad_rates, opt_rates, diff_iterations = compute_rates(max_iter, Qf)\n",
        "\n",
        "# Plot convergence rates\n",
        "plt.figure(figsize=(10, 6))\n",
        "plt.semilogy(range(1, max_iter + 1), grad_rates, label=\"Gradient Descent\")\n",
        "plt.semilogy(range(1, max_iter + 1), opt_rates, label=\"Optimal Method\")\n",
        "plt.xlabel(\"Iteration\")\n",
        "plt.ylabel(\"Convergence Rate\")\n",
        "plt.title(f\"Convergence Rates for Qf = {Qf}\")\n",
        "plt.legend()\n",
        "plt.grid()\n",
        "plt.show()\n",
        "\n",
        "# Plot difference in iterations\n",
        "plt.figure(figsize=(10, 6))\n",
        "plt.plot(range(1, max_iter + 1), diff_iterations, label=\"Extra Iterations (Gradient vs Optimal)\")\n",
        "plt.xlabel(\"Iteration\")\n",
        "plt.ylabel(\"Extra Iterations\")\n",
        "plt.title(f\"Extra Iterations for Gradient Descent (Qf = {Qf})\")\n",
        "plt.legend()\n",
        "plt.grid()\n",
        "plt.show()\n"
      ]
    },
    {
      "cell_type": "markdown",
      "id": "5d31b735-7a43-48e7-895f-6ac3467931e7",
      "metadata": {
        "jp-MarkdownHeadingCollapsed": true,
        "id": "5d31b735-7a43-48e7-895f-6ac3467931e7"
      },
      "source": [
        "## Utilities"
      ]
    },
    {
      "cell_type": "code",
      "execution_count": null,
      "id": "5b3ab7ff-2090-4470-9bf5-6eff31c862a0",
      "metadata": {
        "id": "5b3ab7ff-2090-4470-9bf5-6eff31c862a0"
      },
      "outputs": [],
      "source": [
        "import matplotlib.pyplot as plt\n",
        "from mpl_toolkits.mplot3d import Axes3D\n",
        "from matplotlib import cm"
      ]
    },
    {
      "cell_type": "code",
      "execution_count": null,
      "id": "0526ec1b-fb2c-4e29-8c47-a07b6609fb5d",
      "metadata": {
        "id": "0526ec1b-fb2c-4e29-8c47-a07b6609fb5d"
      },
      "outputs": [],
      "source": [
        "def contour_map(f, xb=(-1,1), yb=(-1,1), ax=None):\n",
        "    if ax is None:\n",
        "        ax = plt\n",
        "    (nx, ny) = (45, 45)\n",
        "    x = np.linspace(*xb, nx)\n",
        "    y = np.linspace(*yb, ny)\n",
        "    xv, yv = np.meshgrid(x, y)\n",
        "    X = np.block([ [xv.reshape(1, -1)], [yv.reshape(1, -1)] ]).T\n",
        "    zv = np.fromiter((f(x) for x in X), dtype=np.double)\n",
        "    zv = zv.reshape(nx,ny)\n",
        "    ax.contour(xv, yv, zv, 15)\n",
        "\n",
        "def surface_plot(f, xb=(-1,1), yb=(-1,1)):\n",
        "    (nx, ny) = (45, 45)\n",
        "    fig = plt.figure()\n",
        "    ax = fig.add_subplot(111, projection='3d')\n",
        "    x = np.linspace(*xb, nx)\n",
        "    y = np.linspace(*yb, ny)\n",
        "    xv, yv = np.meshgrid(x, y)\n",
        "    X = np.block([ [xv.reshape(1, -1)], [yv.reshape(1, -1)] ]).T\n",
        "    zv = np.fromiter((f(x) for x in X), dtype=np.double)\n",
        "    zv = zv.reshape(nx,ny)\n",
        "    ax.plot_surface(xv, yv, zv, cmap=cm.coolwarm)\n",
        "    return fig, ax"
      ]
    },
    {
      "cell_type": "code",
      "execution_count": null,
      "id": "f4139b34-74b0-4c7b-8094-9fe78ede4fa3",
      "metadata": {
        "id": "f4139b34-74b0-4c7b-8094-9fe78ede4fa3"
      },
      "outputs": [],
      "source": [
        "def backtracking_line_search(x, d, f, g, alpha=0.3, beta=0.8):\n",
        "    step_size = 1.\n",
        "    while f(x + step_size * d) > f(x) + alpha * step_size * g(x).dot(d):\n",
        "        step_size *= beta\n",
        "    return step_size\n",
        "\n",
        "def gradient_descent_path(x0, f, g, max_iter=100):\n",
        "    xs = [x0]\n",
        "    for _ in range(max_iter):\n",
        "        step = backtracking_line_search(x0, -g(x0), f, g)\n",
        "        x0 = x0 - step * g(x0)\n",
        "        xs.append(x0)\n",
        "    return xs"
      ]
    },
    {
      "cell_type": "code",
      "execution_count": null,
      "id": "5816f59c-9dba-4f72-a144-271e5152046c",
      "metadata": {
        "id": "5816f59c-9dba-4f72-a144-271e5152046c"
      },
      "outputs": [],
      "source": [
        "EXA = np.array([[30., 15],[-20, 25]])/20\n",
        "\n",
        "EXAMPLES = [\n",
        "    (lambda x: x.T@EXA@x + 1, lambda x: (EXA+EXA.T)@x, 0.5 * np.ones(2), (-1.,1.), (-1.,1.)),\n",
        "    (lambda x: (x[0]**2 + 30 * x[1]**2 + 4 * x[0]), lambda x: np.array([2 * x[0] + 4, 60 * x[1]]), np.array([2.,3.]), (-2.5,2.5), (-1.5,3.5)),\n",
        "    (lambda x: np.linalg.norm(np.sin(x*3))**2, lambda x: 6 * np.sin(x*3) * np.cos(x*3), np.array([.3,.5]), (-1.5, 1.), (-1.,1.))\n",
        "]\n",
        "\n",
        "def run_examples_heavy_ball():\n",
        "    for (f, g, x0, xb, yb) in EXAMPLES:\n",
        "        xs2 = heavy_ball_path(x0, f, g)\n",
        "        xs2 = np.array(xs2)\n",
        "\n",
        "        xs = gradient_descent_path(x0, f, g)\n",
        "        xs = np.array(xs)\n",
        "\n",
        "        contour_map(f, xb=xb, yb=yb)\n",
        "        plt.plot(xs2[:,0], xs2[:,1], '.--k', label='heavy ball')\n",
        "        plt.plot(xs[:,0], xs[:,1], '.--', color='gray', alpha=.5, label='gradient descent')\n",
        "        plt.legend()\n",
        "        plt.show()\n",
        "\n",
        "\n",
        "def run_examples_nag():\n",
        "    for (f, g, x0, xb, yb) in EXAMPLES:\n",
        "        xs2 = nag_path(x0, f, g)\n",
        "        xs2 = np.array(xs2)\n",
        "\n",
        "        xs = gradient_descent_path(x0, f, g)\n",
        "        xs = np.array(xs)\n",
        "\n",
        "        contour_map(f, xb=xb, yb=yb)\n",
        "        plt.plot(xs2[:,0], xs2[:,1], '.--k', label='nesterov')\n",
        "        plt.plot(xs[:,0], xs[:,1], '.--', color='gray', alpha=.5, label='gradient descent')\n",
        "        plt.legend()\n",
        "        plt.show()"
      ]
    },
    {
      "cell_type": "markdown",
      "id": "1dc3173a-453d-48fa-b0c0-8fddb861481c",
      "metadata": {
        "id": "1dc3173a-453d-48fa-b0c0-8fddb861481c"
      },
      "source": [
        "## Task 3: Polyak's heavy ball method\n",
        "\n",
        "Implement Polyak's heavy ball method and the coresponding line search. **Standard backtracking line search is not usable here.**\n",
        "* `x0` is the initial point.\n",
        "* `f` is the function you are trying to minimize.\n",
        "* `g` is the gradient of `f`.\n",
        "\n",
        "Function `heavy_ball_path` should return a list of vectors on the path to the minimum."
      ]
    },
    {
      "cell_type": "code",
      "execution_count": null,
      "id": "cfe6a515-7830-4816-8a43-c216f8b4294b",
      "metadata": {
        "id": "cfe6a515-7830-4816-8a43-c216f8b4294b"
      },
      "outputs": [],
      "source": [
        "def heavy_ball_path(x0, f, g, max_iter=100):\n",
        "    return ..."
      ]
    },
    {
      "cell_type": "code",
      "execution_count": null,
      "id": "87802424-9573-4cea-9db8-1a3317ab5ea1",
      "metadata": {
        "id": "87802424-9573-4cea-9db8-1a3317ab5ea1"
      },
      "outputs": [],
      "source": [
        "# run this to get plots\n",
        "run_examples_heavy_ball()"
      ]
    },
    {
      "cell_type": "markdown",
      "id": "0d885a3e-ac36-4831-89e3-8a1502c0e1a8",
      "metadata": {
        "id": "0d885a3e-ac36-4831-89e3-8a1502c0e1a8"
      },
      "source": [
        "## Task 4: Nesterov accelerated gradient method and backtracking line search\n",
        "\n",
        "Implement Nesterov's accelerated gradient method and the coresponding line search. **Standard backtracking line search is not usable here.**\n",
        "\n",
        "* `x0` is the initial point.\n",
        "* `f` is the function you are trying to minimize.\n",
        "* `g` is the gradient of `f`.\n",
        "\n",
        "Function `nag_path` should return a list of vectors on the path to the minimum."
      ]
    },
    {
      "cell_type": "code",
      "execution_count": null,
      "id": "18859c3b-7091-4d83-8fcc-4aeb6e65ea8e",
      "metadata": {
        "id": "18859c3b-7091-4d83-8fcc-4aeb6e65ea8e"
      },
      "outputs": [],
      "source": [
        "def nag_path(x0, f, g, max_iter=100):\n",
        "    return ..."
      ]
    },
    {
      "cell_type": "code",
      "execution_count": null,
      "id": "48c907b5-9230-4e93-bfc3-119f095365d2",
      "metadata": {
        "id": "48c907b5-9230-4e93-bfc3-119f095365d2"
      },
      "outputs": [],
      "source": [
        "run_examples_nag()"
      ]
    },
    {
      "cell_type": "markdown",
      "id": "a81a9ce0-1a09-45e0-953e-6836a52c8474",
      "metadata": {
        "id": "a81a9ce0-1a09-45e0-953e-6836a52c8474"
      },
      "source": [
        "## Task 5: Error plots\n",
        "\n",
        "Compare and plot the error over time for the three methods on the following tasks."
      ]
    },
    {
      "cell_type": "markdown",
      "id": "2b032adb-e1c2-4d0f-a258-d0ba56ee3e28",
      "metadata": {
        "id": "2b032adb-e1c2-4d0f-a258-d0ba56ee3e28"
      },
      "source": [
        "### Simple quadratic function"
      ]
    },
    {
      "cell_type": "code",
      "execution_count": null,
      "id": "952d75b4-4dca-41eb-b2ac-55144aa0126c",
      "metadata": {
        "id": "952d75b4-4dca-41eb-b2ac-55144aa0126c"
      },
      "outputs": [],
      "source": [
        "f = lambda x: (x[0]**2 + 30 * x[1]**2 + 4 * x[0])\n",
        "g = lambda x: np.array([2 * x[0] + 4, 60 * x[1]])\n",
        "x0 = np.array([2.,3.])\n",
        "\n",
        "x_star = np.array([-2.,0.])\n",
        "..."
      ]
    },
    {
      "cell_type": "markdown",
      "id": "510aa632-0b89-449f-a81b-5d38eec3e2be",
      "metadata": {
        "id": "510aa632-0b89-449f-a81b-5d38eec3e2be"
      },
      "source": [
        "### Linear regression"
      ]
    },
    {
      "cell_type": "code",
      "execution_count": null,
      "id": "d4e9e1b6-a8e4-42f8-80c2-2661b099f92d",
      "metadata": {
        "id": "d4e9e1b6-a8e4-42f8-80c2-2661b099f92d"
      },
      "outputs": [],
      "source": [
        "from sklearn.datasets import make_regression\n",
        "\n",
        "def f(w):\n",
        "    return np.linalg.norm(X @ w - y) ** 2 / len(X)\n",
        "\n",
        "def g(w):\n",
        "    return 2 * X.T @ (X @ w - y) / len(X)\n",
        "\n",
        "X, y = make_regression(n_samples=1000, n_features=100, n_informative=40, random_state=0)\n",
        "x0 = np.zeros(100)\n",
        "\n",
        "x_star = np.linalg.lstsq(X, y, rcond=None)[0]\n",
        "..."
      ]
    },
    {
      "cell_type": "markdown",
      "id": "0104abd0-5728-4b25-ada7-3c574379f339",
      "metadata": {
        "id": "0104abd0-5728-4b25-ada7-3c574379f339"
      },
      "source": [
        "### Logistic regression\n"
      ]
    },
    {
      "cell_type": "code",
      "execution_count": null,
      "id": "5dacc5fb-e053-4704-9634-ffe60ee42186",
      "metadata": {
        "id": "5dacc5fb-e053-4704-9634-ffe60ee42186"
      },
      "outputs": [],
      "source": [
        "from sklearn.datasets import make_classification\n",
        "from scipy.optimize import minimize\n",
        "\n",
        "def f(w):\n",
        "    return np.log(1. + np.exp(-y * X.dot(w))).mean() + np.linalg.norm(w)**2\n",
        "\n",
        "def g(w):\n",
        "    sig = np.exp(-y * X.dot(w))\n",
        "    return 2*w - X.T.dot(sig * y / (sig + 1.)) / X.shape[0]\n",
        "\n",
        "X, y = make_classification(1000, 80, n_informative=40,\n",
        "#                               n_redundant=0,\n",
        "                               n_clusters_per_class=2, flip_y=0.1, random_state=0)\n",
        "\n",
        "x0 = np.zeros(80)\n",
        "x_star = minimize(f, x0, jac=g).x\n",
        "..."
      ]
    }
  ],
  "metadata": {
    "kernelspec": {
      "display_name": "Python 3 (ipykernel)",
      "language": "python",
      "name": "python3"
    },
    "language_info": {
      "codemirror_mode": {
        "name": "ipython",
        "version": 3
      },
      "file_extension": ".py",
      "mimetype": "text/x-python",
      "name": "python",
      "nbconvert_exporter": "python",
      "pygments_lexer": "ipython3",
      "version": "3.11.3"
    },
    "colab": {
      "provenance": [],
      "include_colab_link": true
    }
  },
  "nbformat": 4,
  "nbformat_minor": 5
}